{
  "nbformat": 4,
  "nbformat_minor": 0,
  "metadata": {
    "colab": {
      "provenance": [],
      "authorship_tag": "ABX9TyNaf4YznMol6ic9ivSFudOB",
      "include_colab_link": true
    },
    "kernelspec": {
      "name": "python3",
      "display_name": "Python 3"
    },
    "language_info": {
      "name": "python"
    }
  },
  "cells": [
    {
      "cell_type": "markdown",
      "metadata": {
        "id": "view-in-github",
        "colab_type": "text"
      },
      "source": [
        "<a href=\"https://colab.research.google.com/github/JGMirand4/JGMirand4/blob/main/Untitled7.ipynb\" target=\"_parent\"><img src=\"https://colab.research.google.com/assets/colab-badge.svg\" alt=\"Open In Colab\"/></a>"
      ]
    },
    {
      "cell_type": "code",
      "source": [
        "pip install pyswarm\n"
      ],
      "metadata": {
        "id": "LKWINLkITLh5",
        "collapsed": true
      },
      "execution_count": null,
      "outputs": []
    },
    {
      "cell_type": "code",
      "execution_count": 13,
      "metadata": {
        "id": "lJP9msnMSkvZ",
        "collapsed": true
      },
      "outputs": [],
      "source": [
        "import numpy as np\n",
        "\n",
        "# Funções definidas no problema\n",
        "def pdiv(x, y):\n",
        "    return np.divide(x, y, out=np.zeros_like(x), where=y!=0)\n",
        "\n",
        "def psqrt(x):\n",
        "    return np.sqrt(np.abs(x))\n",
        "\n",
        "def plog(x):\n",
        "    return np.log(np.abs(x) + 1)\n",
        "\n",
        "# Funções primitivas\n",
        "def eval_expression(expr, x):\n",
        "    return eval(expr)\n",
        "\n",
        "# Gramática definida\n",
        "grammar = {\n",
        "    \"<expr>\": [\n",
        "        \"<expr> + <expr>\",\n",
        "        \"<expr> - <expr>\",\n",
        "        \"<expr> * <expr>\",\n",
        "        \"pdiv(<expr>, <expr>)\",\n",
        "        \"psqrt(<expr>)\",\n",
        "        \"np.abs(<expr>)\",\n",
        "        \"np.sin(<expr>)\",\n",
        "        \"np.tanh(<expr>)\",\n",
        "        \"np.exp(<expr>)\",\n",
        "        \"plog(<expr>)\",\n",
        "        \"<var>\"\n",
        "    ],\n",
        "    \"<var>\": [\n",
        "        \"x[:, 0]\", \"x[:, 1]\", \"x[:, 2]\", \"x[:, 3]\", \"x[:, 4]\",\n",
        "        \"x[:, 5]\", \"x[:, 6]\", \"x[:, 7]\", \"x[:, 8]\", \"x[:, 9]\",\n",
        "        \"x[:, 10]\", \"x[:, 11]\", \"x[:, 12]\", \"x[:, 13]\",\n",
        "        \"x[:, 14]\", \"x[:, 15]\", \"x[:, 16]\", \"x[:, 17]\"\n",
        "    ]\n",
        "}\n"
      ]
    },
    {
      "cell_type": "code",
      "source": [
        "import random\n",
        "\n",
        "def generate_expression(symbol, grammar):\n",
        "    \"\"\"Gera uma expressão válida baseada na gramática.\"\"\"\n",
        "    if symbol in grammar:\n",
        "        production = random.choice(grammar[symbol])  # Seleciona uma regra aleatória\n",
        "        return ''.join([generate_expression(sym, grammar) if sym in grammar else sym\n",
        "                        for sym in production.split()])\n",
        "    else:\n",
        "        return symbol\n"
      ],
      "metadata": {
        "id": "SZKm25vTsh6x"
      },
      "execution_count": 14,
      "outputs": []
    },
    {
      "cell_type": "code",
      "source": [
        "from sklearn.metrics import accuracy_score, recall_score, precision_score, f1_score\n",
        "from sklearn.model_selection import train_test_split\n",
        "import pandas as pd\n",
        "\n",
        "# Função de fitness que avalia a expressão gerada\n",
        "def fitness_function(expr, x_train, y_train, x_test, y_test):\n",
        "    try:\n",
        "        # Avaliar a expressão no conjunto de treino\n",
        "        y_pred_train = eval_expression(expr, x_train)\n",
        "        y_pred_train = np.where(y_pred_train > 0.5, 1, 0)  # Classificação binária\n",
        "\n",
        "        # Avaliar a expressão no conjunto de teste\n",
        "        y_pred_test = eval_expression(expr, x_test)\n",
        "        y_pred_test = np.where(y_pred_test > 0.5, 1, 0)\n",
        "\n",
        "        # Calcular as métricas no conjunto de teste\n",
        "        accuracy = accuracy_score(y_test, y_pred_test)\n",
        "        precision = precision_score(y_test, y_pred_test)\n",
        "        recall = recall_score(y_test, y_pred_test)\n",
        "        f1 = f1_score(y_test, y_pred_test)\n",
        "\n",
        "        # Retornar as métricas\n",
        "        return accuracy, precision, recall, f1\n",
        "\n",
        "    except Exception as e:\n",
        "        # Penalizar expressões inválidas, retornando zeros para todas as métricas\n",
        "        return 0, 0, 0, 0\n"
      ],
      "metadata": {
        "id": "SUqtpA-8skK-"
      },
      "execution_count": 16,
      "outputs": []
    },
    {
      "cell_type": "code",
      "source": [
        "from pyswarm import pso\n",
        "\n",
        "# Carregar datasets\n",
        "df = pd.read_csv(\"phishing_sbseg2020_fixed.csv\")\n",
        "\n",
        "# Supondo que a última coluna seja o rótulo (target)\n",
        "X = df.iloc[:, :-1].values  # Features\n",
        "y = df.iloc[:, -1].values   # Labels\n",
        "\n",
        "# Dividir o dataset em treino e teste (80% treino, 20% teste)\n",
        "x_train, x_test, y_train, y_test = train_test_split(X, y, test_size=0.2, random_state=42)\n",
        "\n",
        "print(f\"Tamanho do conjunto de treino: {len(x_train)}\")\n",
        "print(f\"Tamanho do conjunto de teste: {len(x_test)}\")\n",
        "\n",
        "# Configuração do PSO\n",
        "def optimize_pso():\n",
        "    num_particles = 500\n",
        "    max_iters = 1000\n",
        "\n",
        "    # Função de fitness baseada na gramática\n",
        "    def fitness_wrapper(solution):\n",
        "        expr = generate_expression(\"<expr>\", grammar)\n",
        "        # Obter as métricas de avaliação para a expressão\n",
        "        accuracy, precision, recall, f1 = fitness_function(expr, x_train, y_train, x_test, y_test)\n",
        "        print(f\"Acurácia: {accuracy}, Precisão: {precision}, Recall: {recall}, F1-score: {f1}\")\n",
        "        return -f1  # Otimizamos para maximizar o F1-score\n",
        "\n",
        "    # Limites de busca do PSO\n",
        "    lb = [0] * num_particles  # Limites inferiores\n",
        "    ub = [1] * num_particles  # Limites superiores\n",
        "\n",
        "    # Rodar o PSO\n",
        "    best_solution, best_fitness = pso(fitness_wrapper, lb, ub, maxiter=max_iters)\n",
        "    print(f\"Melhor solução: {best_solution}\")\n",
        "    print(f\"Melhor F1-score: {-best_fitness}\")\n",
        "\n",
        "optimize_pso()"
      ],
      "metadata": {
        "id": "QFXTlY5psmwv"
      },
      "execution_count": null,
      "outputs": []
    }
  ]
}